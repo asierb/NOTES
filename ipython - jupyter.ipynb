{
 "cells": [
  {
   "cell_type": "markdown",
   "metadata": {},
   "source": [
    "# JUPYTER NOTEBOOK \n",
    "\n",
    "## Basic functions\n",
    "\n",
    "```python\n",
    "?obj          # ipython info (docstring; ?? tries to show code as well)\n",
    "help()        #\n",
    "%quickref     # quick reference card\n",
    "%magic        #\n",
    "```\n",
    "\n",
    "#### Magic-s and system shell commands\n",
    "\n",
    "Line magics **`%`**  \n",
    "(if no variable is named the same, the magic command can be used without the % sign)\n",
    "```python\n",
    "%lsmagic\n",
    "\n",
    "%timeit  \n",
    "\n",
    "%edit                #opens text editor, executes its code when closing (+saving!)\n",
    "%load file.py        #load code (.py) from url-s or local files, for ex\n",
    "                     # %load http://matplotlib.org/mpl_examples/showcase/integral_demo.py\n",
    "%run file.py         #run the file (and incorporate variables to main namespace)\n",
    "%run -i              #intereactive: run in the current namespace to the script\n",
    "\n",
    "%qtconsole           #open qt console linked to current kernel id\n",
    "%connect_info        #gives kernel ID, which allos to connect from other clientes:\n",
    "                     # > ipython qtconsole --existing 19a7e8b25aa7\n",
    "\n",
    "```\n",
    "\n",
    "\n",
    "Cell magics **`%%`**  \n",
    "```python\n",
    "%%writefile blah.txt  #writing cell content to file\n",
    "```\n",
    "\n",
    "\n",
    "System shell commands **`!`**  \n",
    "\n",
    "#### Configurations    \n",
    " - Use `./ipython/profile_default/startup/` folder to execute files when the shell is onstructed.  \n",
    " - The `/.ipython/profile_default/` folder contains configurations files\n",
    " \n",
    "\n",
    "#### Plotting\n",
    "```python\n",
    "%matplotlib inline   #embeded\n",
    "%matplotlib notebook #experimental\n",
    "%matplotlib qt       #agg etc\n",
    "```\n",
    "\n",
    "#### Equations\n",
    "\n",
    "```\n",
    "$ LaTex inline$               \n",
    "$$ LaTeX multiline $$    \n",
    "\n",
    "\\begin{equation*}\n",
    "P(E)   = {n \\choose k} p^k (1-p)^{ n-k} \n",
    "\\end{equation*}\n",
    "\n",
    "```"
   ]
  },
  {
   "cell_type": "markdown",
   "metadata": {},
   "source": [
    "\\begin{align}\n",
    "\\dot{x} & = \\sigma(y-x) \\\\\n",
    "\\dot{y} & = \\rho x - y - xz \\\\\n",
    "\\dot{z} & = -\\beta z + xy\n",
    "\\end{align}"
   ]
  },
  {
   "cell_type": "markdown",
   "metadata": {},
   "source": [
    "## Jupyter widgets"
   ]
  },
  {
   "cell_type": "markdown",
   "metadata": {},
   "source": [
    "#### interact"
   ]
  },
  {
   "cell_type": "code",
   "execution_count": 5,
   "metadata": {
    "collapsed": false
   },
   "outputs": [
    {
     "name": "stdout",
     "output_type": "stream",
     "text": [
      "10\n"
     ]
    }
   ],
   "source": [
    "from ipywidgets.widgets import interact\n",
    "@interact(a = (0,20))\n",
    "def funct(a):\n",
    "    print(a)"
   ]
  },
  {
   "cell_type": "markdown",
   "metadata": {},
   "source": [
    "#### widgets"
   ]
  },
  {
   "cell_type": "code",
   "execution_count": 15,
   "metadata": {
    "collapsed": false
   },
   "outputs": [
    {
     "name": "stdout",
     "output_type": "stream",
     "text": [
      "(2,)\n",
      "(1,)\n",
      "(1, 0)\n",
      "(1, 2, 0)\n"
     ]
    }
   ],
   "source": [
    "import ipywidgets as widgets\n",
    "options={'first value' : 0,'second value': 1,'third value': 2}\n",
    "\n",
    "w1 = widgets.FloatSlider(value = 25, min=-100, max=100, description='FloatSlider')\n",
    "w11 = widgets.IntSlider(value = 26, min=0, max=100, description='IntSlider')\n",
    "w12 = widgets.FloatProgress(value = 26.4, min=0, max=100, description='FloatProgress')\n",
    "w13 = widgets.IntProgress(value = 44.3, min=0, max=100, description='IntProgress')\n",
    "\n",
    "w2 = widgets.BoundedFloatText(value = 25.1, min=-100, max=100,description='B_FloatText')\n",
    "w3 = widgets.BoundedIntText(value = 25.0, min=-100, max=100,description='B_IntText')\n",
    "w31 = widgets.FloatText(value = 26.2, description = 'FloatText')\n",
    "w32 = widgets.IntText(value = 23, description = 'IntText')\n",
    "w33 = widgets.Text(value='Text', description = 'Text')\n",
    "\n",
    "w4 = widgets.Button(description='Button')\n",
    "w41 = widgets.ToggleButton(description='ToggleButton')\n",
    "w42 = widgets.RadioButtons(options=options, description='RadioButtons')\n",
    "w43 = widgets.ToggleButtons(options=options, description='ToggleButtons')\n",
    "w5 = widgets.Checkbox(value = True, description = 'Checkbox')\n",
    "\n",
    "w6 = widgets.Dropdown(options=options, description='Dropdown')\n",
    "w61 = widgets.Select(options=options, description='Select')\n",
    "w62 = widgets.SelectMultiple(options=options, description='SelectMult')\n",
    "\n",
    "#Callbacks\n",
    "def clickbutt(p):\n",
    "    print('hi')\n",
    "w4.on_click(clickbutt)\n",
    "def printval(name, value):\n",
    "    print(value)\n",
    "w62.on_trait_change(printval, 'value')\n",
    "\n",
    "#Containers\n",
    "W4 = widgets.VBox(children=[w4,w41, w42, w43, w5])\n",
    "W1 = widgets.VBox(children=[w1,w11, w12, w13, w2,w3,w31,w32,w33])\n",
    "W6 = widgets.VBox(children=[w6,w61,w62])\n",
    "widgets.Tab(children=[W1, W4, W6] )\n",
    "#also widgets.Accordion  , \n"
   ]
  },
  {
   "cell_type": "markdown",
   "metadata": {},
   "source": [
    "## References \n",
    " 1. https://jupyter.readthedocs.org/en/latest/\n",
    " 2. http://nbviewer.ipython.org/github/quantopian/ipython/blob/master/examples/Index.ipynb"
   ]
  }
 ],
 "metadata": {
  "kernelspec": {
   "display_name": "Python 3",
   "language": "python",
   "name": "python3"
  }
 },
 "nbformat": 4,
 "nbformat_minor": 0
}
