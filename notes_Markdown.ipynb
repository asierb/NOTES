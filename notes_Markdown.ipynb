{
 "metadata": {
  "name": "",
  "signature": "sha256:f84cda382fe02e1acf82c96c05450fd7fec33491e2e68e9f5658fa735cfd88a1"
 },
 "nbformat": 3,
 "nbformat_minor": 0,
 "worksheets": [
  {
   "cells": [
    {
     "cell_type": "raw",
     "metadata": {},
     "source": [
      "#Header1   [also with ==== below]"
     ]
    },
    {
     "cell_type": "markdown",
     "metadata": {},
     "source": [
      "#Header1"
     ]
    },
    {
     "cell_type": "raw",
     "metadata": {},
     "source": [
      "##Header2   [also with --- below]   etc ###, ####"
     ]
    },
    {
     "cell_type": "markdown",
     "metadata": {},
     "source": [
      "##Header2"
     ]
    },
    {
     "cell_type": "markdown",
     "metadata": {},
     "source": [
      "####Header4"
     ]
    },
    {
     "cell_type": "raw",
     "metadata": {},
     "source": [
      "[Note: for new paragraph, two spaces at the end of the line]\n",
      "*ITALIC*, _italic_  \n",
      "**BOLD**, __bold__  \n",
      "~~striped~~  \n",
      "`monospace`  \n",
      "[link](http://example.com \"tips\")"
     ]
    },
    {
     "cell_type": "markdown",
     "metadata": {},
     "source": [
      "*ITALIC*, _italic_  \n",
      "**BOLD**, __bold__  \n",
      "~~striped~~  \n",
      "`monospace`  \n",
      "[link](http://example.com \"tips\")"
     ]
    },
    {
     "cell_type": "raw",
     "metadata": {},
     "source": [
      "* list\n",
      "* list"
     ]
    },
    {
     "cell_type": "markdown",
     "metadata": {},
     "source": [
      "* list\n",
      "* list"
     ]
    },
    {
     "cell_type": "raw",
     "metadata": {},
     "source": [
      "1. numlist\n",
      "2. numlist\n",
      " 1. sublist"
     ]
    },
    {
     "cell_type": "markdown",
     "metadata": {},
     "source": [
      "1. numlist\n",
      "2. numlist\n",
      " 1. sublist"
     ]
    },
    {
     "cell_type": "raw",
     "metadata": {},
     "source": [
      "![alternative text if the image fails](http://ipython.org/_static/IPy_header.png \"popup message\")"
     ]
    },
    {
     "cell_type": "markdown",
     "metadata": {},
     "source": [
      "![alternative text if the image fails](http://ipython.org/_static/IPy_header.png \"popup message\")"
     ]
    },
    {
     "cell_type": "raw",
     "metadata": {},
     "source": [
      "```python  \n",
      "def Code_blocks():\n",
      "   None\n",
      "```"
     ]
    },
    {
     "cell_type": "markdown",
     "metadata": {},
     "source": [
      "```python  \n",
      "def Code_blocks():\n",
      "   None\n",
      "```"
     ]
    },
    {
     "cell_type": "raw",
     "metadata": {},
     "source": [
      "| TABLE | OK |\n",
      "|------:|:---|\n",
      "| row1  | ok |"
     ]
    },
    {
     "cell_type": "markdown",
     "metadata": {},
     "source": [
      "| TABLE | OK |\n",
      "|------:|:---|\n",
      "| row1  | ok |"
     ]
    },
    {
     "cell_type": "raw",
     "metadata": {},
     "source": [
      "> ##Quotation\n",
      "> quotation"
     ]
    },
    {
     "cell_type": "markdown",
     "metadata": {},
     "source": [
      "> ##Quotation\n",
      "> quotation"
     ]
    },
    {
     "cell_type": "raw",
     "metadata": {},
     "source": [
      "---  \n",
      "***  \n",
      "___"
     ]
    },
    {
     "cell_type": "markdown",
     "metadata": {},
     "source": [
      "---  \n",
      "***  \n",
      "___"
     ]
    },
    {
     "cell_type": "code",
     "collapsed": false,
     "input": [],
     "language": "python",
     "metadata": {},
     "outputs": []
    }
   ],
   "metadata": {}
  }
 ]
}