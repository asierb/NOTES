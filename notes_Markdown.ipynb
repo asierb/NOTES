{
 "cells": [
  {
   "cell_type": "markdown",
   "metadata": {},
   "source": [
    "#FORMATS"
   ]
  },
  {
   "cell_type": "markdown",
   "metadata": {},
   "source": [
    "| Markdown syntax     |  |\n",
    "|:---|:---|\n",
    "| new paragraph | two spaces at the end of the line|\n",
    "| `*italic*` / `_italic_`  | *ITALIC* |\n",
    "| `**bold**` / `__bold__` | **BOLD**|\n",
    "| `~~striped~~` | ~~STRIPED~~|\n",
    "| ` `monospace`  ` (triple backticks for blocks)|`MONOSPACE` |\n",
    "|`$ e^{i \\pi} = -1 $` (`$$` for block)| $e^{i \\pi} = -1$|\n",
    "|`[link](http://www \"tips\")`|[link](http://example.com \"tips\")|\n",
    "|`! [alt_text](http:...) \"popup\"` |![alternative text if image fails](http://ipython.org/_static/IPy_header.png \"popup message\")|\n",
    "|horizontal lines|**---** or **`***`** or **`___`**|"
   ]
  },
  {
   "cell_type": "markdown",
   "metadata": {},
   "source": [
    "#HEADERS"
   ]
  },
  {
   "cell_type": "markdown",
   "metadata": {},
   "source": [
    "#Header1  \n",
    "```\n",
    "[Markdown syntax]:\n",
    "#Header1\n",
    "#Header1_1\n",
    "========\n",
    "```\n",
    "\n",
    "\n",
    "##Header2  \n",
    "```\n",
    "##Header2  \n",
    "Header2_2\n",
    "---------\n",
    "\n",
    "```\n",
    "###Header3\n",
    "```\n",
    "###Header3\n",
    "```\n",
    "etc"
   ]
  },
  {
   "cell_type": "markdown",
   "metadata": {},
   "source": [
    "# LISTS"
   ]
  },
  {
   "cell_type": "markdown",
   "metadata": {},
   "source": [
    "* First level \n",
    "   - Second level \n",
    "      - Third level\n",
    "\n",
    "---\n",
    "[*Markdown syntax*]\n",
    "```\n",
    "* First level \n",
    "   - Second level \n",
    "      - Third level\n",
    "```"
   ]
  },
  {
   "cell_type": "markdown",
   "metadata": {},
   "source": [
    "# NUMBERES LIST"
   ]
  },
  {
   "cell_type": "markdown",
   "metadata": {},
   "source": [
    "1. First level\n",
    "2. Second level \n",
    " 1. Sublevel\n",
    "\n",
    "---\n",
    "\n",
    "[*Markdown syntax*]\n",
    "````\n",
    "1. First level\n",
    "2. Second level \n",
    " 1. Sublevel\n",
    "````"
   ]
  },
  {
   "cell_type": "markdown",
   "metadata": {},
   "source": [
    "#BLOCKS"
   ]
  },
  {
   "cell_type": "markdown",
   "metadata": {},
   "source": [
    "####MONSPACE BLOCKS\n",
    "```python  \n",
    "def foo():\n",
    "   pass\n",
    "```\n",
    "\n",
    "---\n",
    "[*Markdown syntax*]\n",
    "\n",
    "    ```python  \n",
    "    def foo():\n",
    "       pass\n",
    "    ```\n",
    "Also by indenting a least 4 spaces each line"
   ]
  },
  {
   "cell_type": "markdown",
   "metadata": {},
   "source": [
    "####QUOTATION BLOCKS\n",
    "> Hi there  \n",
    "\n",
    "[*Markdown syntax*]  \n",
    "`> Hi there  `"
   ]
  },
  {
   "cell_type": "markdown",
   "metadata": {},
   "source": [
    "#TABLE"
   ]
  },
  {
   "cell_type": "markdown",
   "metadata": {},
   "source": [
    "| TABLE | OK?|\n",
    "|------:|:---|\n",
    "| row1  | ok |\n",
    "\n",
    "[*Markdown syntax*]    \n",
    "      | TABLE | OK?|  \n",
    "      |------:|:---|  \n",
    "      | row1  | ok |  "
   ]
  }
 ],
 "metadata": {
  "kernelspec": {
   "display_name": "Python 3",
   "language": "python",
   "name": "python3"
  },
  "language_info": {
   "codemirror_mode": {
    "name": "ipython",
    "version": 3
   },
   "file_extension": ".py",
   "mimetype": "text/x-python",
   "name": "python",
   "nbconvert_exporter": "python",
   "pygments_lexer": "ipython3",
   "version": "3.4.3"
  }
 },
 "nbformat": 4,
 "nbformat_minor": 0
}
