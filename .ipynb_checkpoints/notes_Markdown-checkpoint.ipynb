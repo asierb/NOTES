{
 "metadata": {
  "name": "",
  "signature": "sha256:f180514b95a58fd75c99d9c5b5c148b24e34cb61aaebff00c427ca36d48a1840"
 },
 "nbformat": 3,
 "nbformat_minor": 0,
 "worksheets": [
  {
   "cells": [
    {
     "cell_type": "markdown",
     "metadata": {},
     "source": [
      "Breif recap of Markdown syntax"
     ]
    },
    {
     "cell_type": "markdown",
     "metadata": {},
     "source": [
      "---"
     ]
    },
    {
     "cell_type": "heading",
     "level": 1,
     "metadata": {},
     "source": [
      "1. SUMMARY"
     ]
    },
    {
     "cell_type": "markdown",
     "metadata": {},
     "source": [
      "| format           | code     | sample |\n",
      "|:------  |:---|:---|\n",
      "| italic  |    **`*w*`** or **`_w_`**  | *ITALIC* |\n",
      "| bold    | `**`w`**` or **`__w__`** | **BOLD**|\n",
      "| striped  |**`~~w~~`** | ~~STRIPED~~|\n",
      "| monospace| **` `w` `** (for code blocks: **` ``` ` ** python )|`MONOSPACE` |\n",
      "| headers| **#**(also ===);  **##**(also ---) **###** etc||\n",
      "| link     |`[link](http://www \"tips\")`|[link](http://example.com \"tips\")|\n",
      "| new paragraph | two spaces at the end of the line||\n",
      "|LaTeX     |**`$`** (**`$$`** for block)| $e^{i \\pi} = -1$|\n",
      "|quotation blocks|**>**||\n",
      "|list|**`*`** (+indentation)   ||\n",
      "|numbered list|**`1.`** (+indentation)||\n",
      "|horizontal lines|**---** or **`***`** or **`___`**||\n",
      "|image|`!` `[`alt_text`]`(http:) \"popup\"|![alternative text if the image fails](http://ipython.org/_static/IPy_header.png \"popup message\")|"
     ]
    },
    {
     "cell_type": "heading",
     "level": 1,
     "metadata": {},
     "source": [
      "2. SAMPLES"
     ]
    },
    {
     "cell_type": "markdown",
     "metadata": {},
     "source": [
      "# #Header1    [also with ==== below]\n",
      "## ##Header2  [also with --- below] \n",
      "### ###Header3\n",
      "####  ####Header4\n",
      "etc\n",
      "\n",
      "* list with *\n",
      "* list with *\n",
      "   - sublist with indent\n",
      "      - subsublist\n",
      "\n",
      "\n",
      "1. numlist\n",
      "2. numlist\n",
      " 1. subnumlist with indent\n"
     ]
    },
    {
     "cell_type": "markdown",
     "metadata": {},
     "source": [
      "```python  \n",
      "def Code_blocks():\n",
      "   pass\n",
      "```"
     ]
    },
    {
     "cell_type": "raw",
     "metadata": {},
     "source": [
      "| TABLE | OK?|\n",
      "|------:|:---|\n",
      "| row1  | ok |"
     ]
    }
   ],
   "metadata": {}
  }
 ]
}